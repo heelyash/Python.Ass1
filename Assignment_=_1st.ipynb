{
  "nbformat": 4,
  "nbformat_minor": 0,
  "metadata": {
    "colab": {
      "provenance": []
    },
    "kernelspec": {
      "name": "python3",
      "display_name": "Python 3"
    },
    "language_info": {
      "name": "python"
    }
  },
  "cells": [
    {
      "cell_type": "markdown",
      "source": [],
      "metadata": {
        "id": "M34wTlY0Ctfg"
      }
    },
    {
      "cell_type": "code",
      "execution_count": null,
      "metadata": {
        "id": "qZSCEWfjAzCx"
      },
      "outputs": [],
      "source": [
        " Que. 1 #Explain the key features of Python that make it a popular choice for programming.\n",
        "\n",
        "#Ans . #Python is a popular language for web and software development because you can create complex, multi-protocol applications while maintaining concise, readable syntax. In fact, some of the most popular\n",
        "          #applications were built with Python.\n",
        "\n",
        " #   *  Free and Open Source\n",
        " #    * Easy to Read\n",
        "  #    *  Object-Oriented Language.\n",
        "  #      *GUI Programming Support\n",
        " #    *   High-Level Language.\n",
        " #      * Large Community Support\n",
        "  #     *   Easy to Debug\n",
        "\n"
      ]
    },
    {
      "cell_type": "markdown",
      "source": [],
      "metadata": {
        "id": "u4Ibn85XA7JA"
      }
    },
    {
      "cell_type": "code",
      "source": [
        "#Que . 2 Describe the role of predefined keywords in Python and provide examples of how they are used in a program.\n",
        "\n",
        "#Ans . A Python keyword is a word that serves a specific function in Python. It is limited to one single function and it can not be set as a variable name, a function name, or the value of any other identifier. The purpose of the keyword is to define the syntax of the code.\n",
        "\n",
        "#Predefined keywords\n",
        "\n",
        "#* Keywords are reserved words in Python that have special meanings and cannot be used as identifiers (variable names, function names, etc.).\n",
        "#* Examples of keywords include if, else, while, for, def, class, import, try, except, return, True, False, None, etc.\n",
        "#* Keywords are case-sensitive and cannot be redefined or overridden within a Python program.\"\n",
        "\n"
      ],
      "metadata": {
        "id": "hiqhBy8xBc51"
      },
      "execution_count": null,
      "outputs": []
    },
    {
      "cell_type": "markdown",
      "source": [],
      "metadata": {
        "id": "ytt7J7HECV0b"
      }
    },
    {
      "cell_type": "code",
      "source": [
        "help(\"keywords\")"
      ],
      "metadata": {
        "id": "YhNms1drB23t",
        "colab": {
          "base_uri": "https://localhost:8080/"
        },
        "outputId": "f7fc6d37-adfc-41e3-e872-2c7d3f990c0d"
      },
      "execution_count": 5,
      "outputs": [
        {
          "output_type": "stream",
          "name": "stdout",
          "text": [
            "\n",
            "Here is a list of the Python keywords.  Enter any keyword to get more help.\n",
            "\n",
            "False               class               from                or\n",
            "None                continue            global              pass\n",
            "True                def                 if                  raise\n",
            "and                 del                 import              return\n",
            "as                  elif                in                  try\n",
            "assert              else                is                  while\n",
            "async               except              lambda              with\n",
            "await               finally             nonlocal            yield\n",
            "break               for                 not                 \n",
            "\n"
          ]
        }
      ]
    },
    {
      "cell_type": "code",
      "source": [
        "#Que 3. Compare and contrast mutable and immutable objects in Python with examples.\n",
        "\n",
        "# Ans.  Mutable objects in Python are those that can be changed after they are created, like lists or dictionaries. Immutable objects, on the other hand, cannot be changed after they are created, such as strings, integers, or tuples\n",
        "\n",
        "#Mutability & Immutability.\n",
        "\n",
        "#In Python, objects can be either changeable (modifiable) or unchangeable (unchangeable).\n",
        "#Mutable objects, such as lists and dictionaries, can be modified after creation, while immutable objects, such as tuples and strings, cannot.\n",
        "#Mutability affects how objects are stored and manipulated in memory, impacting performance, memory usage, and concurrency in Python programs.\n",
        "\n"
      ],
      "metadata": {
        "id": "XKlITmJUCdkc"
      },
      "execution_count": null,
      "outputs": []
    },
    {
      "cell_type": "code",
      "source": [
        "a = [ \"Yash\" , \"rishi\", \"sanket \" , \"raki\"]"
      ],
      "metadata": {
        "id": "7S44FYmcDlsa"
      },
      "execution_count": 13,
      "outputs": []
    },
    {
      "cell_type": "code",
      "source": [
        "a"
      ],
      "metadata": {
        "colab": {
          "base_uri": "https://localhost:8080/"
        },
        "id": "FUpjQEwdEwnA",
        "outputId": "f93bee69-27c0-4f55-f6fe-c756364aa13f"
      },
      "execution_count": 15,
      "outputs": [
        {
          "output_type": "execute_result",
          "data": {
            "text/plain": [
              "['Yash', 'rishi', 'sanket ', 'raki']"
            ]
          },
          "metadata": {},
          "execution_count": 15
        }
      ]
    },
    {
      "cell_type": "code",
      "source": [
        "a[0] =  \"varun\""
      ],
      "metadata": {
        "id": "N-MEHAN5ExIf"
      },
      "execution_count": 16,
      "outputs": []
    },
    {
      "cell_type": "code",
      "source": [
        "a         #list is mutable"
      ],
      "metadata": {
        "colab": {
          "base_uri": "https://localhost:8080/"
        },
        "id": "gwbvp9ptE2u3",
        "outputId": "3424785b-306e-49f7-bb28-6420e7bb1b4b"
      },
      "execution_count": 17,
      "outputs": [
        {
          "output_type": "execute_result",
          "data": {
            "text/plain": [
              "['varun', 'rishi', 'sanket ', 'raki']"
            ]
          },
          "metadata": {},
          "execution_count": 17
        }
      ]
    },
    {
      "cell_type": "code",
      "source": [
        "a = (\"Yash\" , \"rishi\", \"sanket \" , \"raki\")"
      ],
      "metadata": {
        "id": "L6zy9ofJE4TD"
      },
      "execution_count": 18,
      "outputs": []
    },
    {
      "cell_type": "code",
      "source": [
        "a"
      ],
      "metadata": {
        "colab": {
          "base_uri": "https://localhost:8080/"
        },
        "id": "aB5JZF7qFBrm",
        "outputId": "61012dee-3a6c-43b9-ff1a-6cdb79ba5146"
      },
      "execution_count": 19,
      "outputs": [
        {
          "output_type": "execute_result",
          "data": {
            "text/plain": [
              "('Yash', 'rishi', 'sanket ', 'raki')"
            ]
          },
          "metadata": {},
          "execution_count": 19
        }
      ]
    },
    {
      "cell_type": "code",
      "source": [
        "a[2] = \"kartik\"   #tupple is immutable"
      ],
      "metadata": {
        "colab": {
          "base_uri": "https://localhost:8080/",
          "height": 141
        },
        "id": "VaRsS_bKFCX6",
        "outputId": "ca0312c2-062b-4f1b-c474-e6feef29f325"
      },
      "execution_count": 20,
      "outputs": [
        {
          "output_type": "error",
          "ename": "TypeError",
          "evalue": "'tuple' object does not support item assignment",
          "traceback": [
            "\u001b[0;31m---------------------------------------------------------------------------\u001b[0m",
            "\u001b[0;31mTypeError\u001b[0m                                 Traceback (most recent call last)",
            "\u001b[0;32m<ipython-input-20-cfcbd5d241e3>\u001b[0m in \u001b[0;36m<cell line: 1>\u001b[0;34m()\u001b[0m\n\u001b[0;32m----> 1\u001b[0;31m \u001b[0ma\u001b[0m\u001b[0;34m[\u001b[0m\u001b[0;36m2\u001b[0m\u001b[0;34m]\u001b[0m \u001b[0;34m=\u001b[0m \u001b[0;34m\"kartik\"\u001b[0m\u001b[0;34m\u001b[0m\u001b[0;34m\u001b[0m\u001b[0m\n\u001b[0m",
            "\u001b[0;31mTypeError\u001b[0m: 'tuple' object does not support item assignment"
          ]
        }
      ]
    },
    {
      "cell_type": "code",
      "source": [
        "y = \"roman reings win the tittle\""
      ],
      "metadata": {
        "id": "ewlenZKTFGIj"
      },
      "execution_count": 21,
      "outputs": []
    },
    {
      "cell_type": "code",
      "source": [
        "y"
      ],
      "metadata": {
        "colab": {
          "base_uri": "https://localhost:8080/",
          "height": 36
        },
        "id": "O2_o_ubiFagv",
        "outputId": "422ff645-f0f3-4614-827d-fa77dace0071"
      },
      "execution_count": 22,
      "outputs": [
        {
          "output_type": "execute_result",
          "data": {
            "text/plain": [
              "'roman reings win the tittle'"
            ],
            "application/vnd.google.colaboratory.intrinsic+json": {
              "type": "string"
            }
          },
          "metadata": {},
          "execution_count": 22
        }
      ]
    },
    {
      "cell_type": "code",
      "source": [
        "y[4] = \"s\" #sting is immuatable"
      ],
      "metadata": {
        "colab": {
          "base_uri": "https://localhost:8080/",
          "height": 141
        },
        "id": "hgeWCbP_FbDV",
        "outputId": "37f8ef3e-2047-4d08-a65f-4dd16b22b51a"
      },
      "execution_count": 23,
      "outputs": [
        {
          "output_type": "error",
          "ename": "TypeError",
          "evalue": "'str' object does not support item assignment",
          "traceback": [
            "\u001b[0;31m---------------------------------------------------------------------------\u001b[0m",
            "\u001b[0;31mTypeError\u001b[0m                                 Traceback (most recent call last)",
            "\u001b[0;32m<ipython-input-23-00b665fc9150>\u001b[0m in \u001b[0;36m<cell line: 1>\u001b[0;34m()\u001b[0m\n\u001b[0;32m----> 1\u001b[0;31m \u001b[0my\u001b[0m\u001b[0;34m[\u001b[0m\u001b[0;36m4\u001b[0m\u001b[0;34m]\u001b[0m \u001b[0;34m=\u001b[0m \u001b[0;34m\"s\"\u001b[0m\u001b[0;34m\u001b[0m\u001b[0;34m\u001b[0m\u001b[0m\n\u001b[0m",
            "\u001b[0;31mTypeError\u001b[0m: 'str' object does not support item assignment"
          ]
        }
      ]
    },
    {
      "cell_type": "code",
      "source": [
        "# 4. Discuss the different types of operators in Python and provide examples of how they are used.\n",
        "\n",
        "#Ans . In Python programming, Operators in general are used to perform operations on values and variables. These are standard symbols used for logical and arithmetic operations. In this article, we will look into different types of Python operators.\n",
        "\n",
        "# Types of Operators in Python\n",
        " #Arithmetic Operators\n",
        " #Comparison Operators\n",
        " #Logical Operators\n",
        " #Bitwise Operators\n",
        " #Assignment Operators\n",
        "# Identity Operators and Membership Operators\n",
        "\n",
        "#Operators\n",
        "\n",
        "#Operators are special symbols or keywords that are used to carry out specific actions on numbers or variables in Python expressions.\n",
        "#Python supports various types of operators, including arithmetic operators (+, -, *, /), comparison operators (==, !=, <, >), logical operators (and, or, not), assignment operators (=, +=, -=, *=, /=), etc.\n",
        "#Operators have precedence and associativity rules that determine the order of evaluation in expressions.\n",
        "\n"
      ],
      "metadata": {
        "id": "UybZRIXLFfVv"
      },
      "execution_count": null,
      "outputs": []
    },
    {
      "cell_type": "code",
      "source": [
        "a = 14        #arthmatic opreator\n",
        "b = 20\n",
        "a+b"
      ],
      "metadata": {
        "colab": {
          "base_uri": "https://localhost:8080/"
        },
        "id": "aev_J8b_G4U_",
        "outputId": "ccb79222-e4f1-4589-b8a5-bc460d55da57"
      },
      "execution_count": 24,
      "outputs": [
        {
          "output_type": "execute_result",
          "data": {
            "text/plain": [
              "34"
            ]
          },
          "metadata": {},
          "execution_count": 24
        }
      ]
    },
    {
      "cell_type": "code",
      "source": [
        "a = 20\n",
        "b  = 30\n",
        "a-b"
      ],
      "metadata": {
        "colab": {
          "base_uri": "https://localhost:8080/"
        },
        "id": "ctihMN1lHEsz",
        "outputId": "b81b3f27-4a98-442f-8bf3-344e0cd20ad7"
      },
      "execution_count": 26,
      "outputs": [
        {
          "output_type": "execute_result",
          "data": {
            "text/plain": [
              "-10"
            ]
          },
          "metadata": {},
          "execution_count": 26
        }
      ]
    },
    {
      "cell_type": "code",
      "source": [
        "a = \"Yash\"\n",
        "b = \"rishi\"\n",
        "a == b"
      ],
      "metadata": {
        "colab": {
          "base_uri": "https://localhost:8080/"
        },
        "id": "eG075jTiHNrf",
        "outputId": "e090af43-4b22-405f-c613-ab4feed3d87d"
      },
      "execution_count": 28,
      "outputs": [
        {
          "output_type": "execute_result",
          "data": {
            "text/plain": [
              "False"
            ]
          },
          "metadata": {},
          "execution_count": 28
        }
      ]
    },
    {
      "cell_type": "code",
      "source": [
        "a = \"Yash\"          #comparison operators\n",
        "b = \"rishi\"\n",
        "a != b\n"
      ],
      "metadata": {
        "colab": {
          "base_uri": "https://localhost:8080/"
        },
        "id": "veO1bthNHVOT",
        "outputId": "82e735f7-e974-43fa-fdd1-7c199953f808"
      },
      "execution_count": 30,
      "outputs": [
        {
          "output_type": "execute_result",
          "data": {
            "text/plain": [
              "True"
            ]
          },
          "metadata": {},
          "execution_count": 30
        }
      ]
    },
    {
      "cell_type": "code",
      "source": [
        "a = 10\n",
        "print(a>5 and a<20)    #logical op."
      ],
      "metadata": {
        "colab": {
          "base_uri": "https://localhost:8080/"
        },
        "id": "Z0NssojnHfsJ",
        "outputId": "a1f58731-36f1-4d5a-cce1-18a04cb8e90a"
      },
      "execution_count": 31,
      "outputs": [
        {
          "output_type": "stream",
          "name": "stdout",
          "text": [
            "True\n"
          ]
        }
      ]
    },
    {
      "cell_type": "code",
      "source": [
        "a = 50\n",
        "b = 50     #assinging op>\n",
        "c = a+b"
      ],
      "metadata": {
        "id": "jvq7rh65IIwa"
      },
      "execution_count": 32,
      "outputs": []
    },
    {
      "cell_type": "code",
      "source": [
        "print(c)"
      ],
      "metadata": {
        "colab": {
          "base_uri": "https://localhost:8080/"
        },
        "id": "tCGUFJSwIW8Q",
        "outputId": "aef49c1a-f4fb-497a-b638-0ea2a0f41dc4"
      },
      "execution_count": 33,
      "outputs": [
        {
          "output_type": "stream",
          "name": "stdout",
          "text": [
            "100\n"
          ]
        }
      ]
    },
    {
      "cell_type": "code",
      "source": [
        "# Que.5 . Explain the concept of type casting in Python with examples.\n",
        "\n",
        "#Ans . Type Casting is the method to convert the Python variable datatype into a certain data type in order to perform the required operation by users. In this article, we will see the various techniques for typecasting. #There can be two types of Type Casting in Python:\n",
        "\n",
        "#Python Implicit Type Conversion\n",
        "#Python Explicit Type Conversion"
      ],
      "metadata": {
        "id": "uBfn6IHbIZDu"
      },
      "execution_count": null,
      "outputs": []
    },
    {
      "cell_type": "code",
      "source": [
        "x = \"yash\"           #immutabel\n",
        "print(type(x))"
      ],
      "metadata": {
        "colab": {
          "base_uri": "https://localhost:8080/"
        },
        "id": "yWImbh_RI793",
        "outputId": "99cf9ea5-8827-4c16-cf62-0ac47fe8503f"
      },
      "execution_count": 34,
      "outputs": [
        {
          "output_type": "stream",
          "name": "stdout",
          "text": [
            "<class 'str'>\n"
          ]
        }
      ]
    },
    {
      "cell_type": "code",
      "source": [
        "float(x)"
      ],
      "metadata": {
        "colab": {
          "base_uri": "https://localhost:8080/",
          "height": 141
        },
        "id": "RcfAPooiJDqc",
        "outputId": "5fd9c4dd-612b-4d66-9bd3-5b93bc99b3eb"
      },
      "execution_count": 35,
      "outputs": [
        {
          "output_type": "error",
          "ename": "ValueError",
          "evalue": "could not convert string to float: 'yash'",
          "traceback": [
            "\u001b[0;31m---------------------------------------------------------------------------\u001b[0m",
            "\u001b[0;31mValueError\u001b[0m                                Traceback (most recent call last)",
            "\u001b[0;32m<ipython-input-35-d8fb2b8f5513>\u001b[0m in \u001b[0;36m<cell line: 1>\u001b[0;34m()\u001b[0m\n\u001b[0;32m----> 1\u001b[0;31m \u001b[0mfloat\u001b[0m\u001b[0;34m(\u001b[0m\u001b[0mx\u001b[0m\u001b[0;34m)\u001b[0m\u001b[0;34m\u001b[0m\u001b[0;34m\u001b[0m\u001b[0m\n\u001b[0m",
            "\u001b[0;31mValueError\u001b[0m: could not convert string to float: 'yash'"
          ]
        }
      ]
    },
    {
      "cell_type": "code",
      "source": [
        "b = 10.5\n",
        "type(b)"
      ],
      "metadata": {
        "colab": {
          "base_uri": "https://localhost:8080/"
        },
        "id": "Rp_zUT7xJJlV",
        "outputId": "75709434-a3ec-4bc3-a06e-2b195a11faa3"
      },
      "execution_count": 36,
      "outputs": [
        {
          "output_type": "execute_result",
          "data": {
            "text/plain": [
              "float"
            ]
          },
          "metadata": {},
          "execution_count": 36
        }
      ]
    },
    {
      "cell_type": "code",
      "source": [
        "int(b)      #typecasting"
      ],
      "metadata": {
        "colab": {
          "base_uri": "https://localhost:8080/"
        },
        "id": "1Zqng6ofJRf3",
        "outputId": "87bef72d-3aee-41b9-a354-b190a14a018d"
      },
      "execution_count": 37,
      "outputs": [
        {
          "output_type": "execute_result",
          "data": {
            "text/plain": [
              "10"
            ]
          },
          "metadata": {},
          "execution_count": 37
        }
      ]
    },
    {
      "cell_type": "code",
      "source": [
        "print(type(b))"
      ],
      "metadata": {
        "colab": {
          "base_uri": "https://localhost:8080/"
        },
        "id": "j_r-McD4JTZT",
        "outputId": "ac653d16-cfc7-4c0a-d878-baa1f8c25e7e"
      },
      "execution_count": 38,
      "outputs": [
        {
          "output_type": "stream",
          "name": "stdout",
          "text": [
            "<class 'float'>\n"
          ]
        }
      ]
    },
    {
      "cell_type": "code",
      "source": [
        "print(float(b))"
      ],
      "metadata": {
        "colab": {
          "base_uri": "https://localhost:8080/"
        },
        "id": "54udB5xGJfPm",
        "outputId": "4c80e587-e024-41a8-970d-46168b39e504"
      },
      "execution_count": 40,
      "outputs": [
        {
          "output_type": "stream",
          "name": "stdout",
          "text": [
            "10.5\n"
          ]
        }
      ]
    },
    {
      "cell_type": "code",
      "source": [
        "#Que 6. How do conditional statements work in Python? Illustrate with examples.\n",
        "\n",
        "#Ans.  Conditional Statements are statements in Python that provide a choice for the control flow based on a condition. It means that the control flow of the Python program will be decided based on the outcome of the condition.\n",
        "\n",
        "#1. If Conditional Statement in Python\n",
        "# If the simple code of block is to be performed if the condition holds then the if statement is used. Here the condition mentioned holds then the code of the block runs otherwise not.\n",
        "\n",
        "a = 10\n",
        "b = 20\n",
        "if a<b:\n",
        "    print(\"a is smaller than b\")"
      ],
      "metadata": {
        "colab": {
          "base_uri": "https://localhost:8080/"
        },
        "id": "I1q_EKcVJiyf",
        "outputId": "e7a92e94-1b3c-45d4-d153-7d42598f2e38"
      },
      "execution_count": 42,
      "outputs": [
        {
          "output_type": "stream",
          "name": "stdout",
          "text": [
            "a is smaller than b\n"
          ]
        }
      ]
    },
    {
      "cell_type": "code",
      "source": [
        "#2. If else Conditional Statements in Python\n",
        "#In a conditional if Statement the additional block of code is merged as an else statement which is performed when if condition is false.\n",
        "\n",
        "a = 10\n",
        "b = 20\n",
        "if a<b:\n",
        "  print(\"a is smaller than b\")\n",
        "else:\n",
        "  print(\"a is greater than b\")"
      ],
      "metadata": {
        "colab": {
          "base_uri": "https://localhost:8080/"
        },
        "id": "XsZE0-IcKfyN",
        "outputId": "d8245a68-e067-4fb0-dfb2-cce2441c95de"
      },
      "execution_count": 43,
      "outputs": [
        {
          "output_type": "stream",
          "name": "stdout",
          "text": [
            "a is smaller than b\n"
          ]
        }
      ]
    },
    {
      "cell_type": "code",
      "source": [
        "#3. Nested if..else Conditional Statements in Python\n",
        "#Nested if..else means an if-else statement inside another if statement. Or in simple words first,\n",
        "#there is an outer if statement, and inside it another if – else statement is present and such type of statement is known as as nested if statement.\n",
        "#We can use one if or else if statement inside another if or else if statements.\n",
        "\n",
        "\n",
        "letter = \"A\"\n",
        "\n",
        "if letter == \"B\":\n",
        "    print(\"letter is B\")\n",
        "\n",
        "else:\n",
        "\n",
        "    if letter == \"C\":\n",
        "        print(\"letter is C\")\n",
        "\n",
        "    else:\n",
        "\n",
        "        if letter == \"A\":\n",
        "            print(\"letter is A\")\n",
        "\n",
        "        else:\n",
        "            print(\"letter isn't A, B and C\")"
      ],
      "metadata": {
        "colab": {
          "base_uri": "https://localhost:8080/"
        },
        "id": "HmfmALKlLCl6",
        "outputId": "fae91950-bd44-4c78-f767-d403d1c82249"
      },
      "execution_count": 44,
      "outputs": [
        {
          "output_type": "stream",
          "name": "stdout",
          "text": [
            "letter is A\n"
          ]
        }
      ]
    },
    {
      "cell_type": "code",
      "source": [
        "#4. If-elif-else Conditional Statements in Python\n",
        "#The if statements are executed from the top down. As soon as one of the conditions controlling the if is true, the statement associated with that\n",
        "#if is executed, and the rest of the ladder is bypassed.\n",
        "# If none of the #conditions is true, then the final “else” statement will be executed.\n",
        "\n",
        "\n",
        "\n",
        "letter = \"A\"\n",
        "\n",
        "if letter == \"B\":\n",
        "    print(\"letter is B\")\n",
        "\n",
        "elif letter == \"C\":\n",
        "    print(\"letter is C\")\n",
        "\n",
        "elif letter == \"A\":\n",
        "    print(\"letter is A\")\n",
        "\n",
        "else:\n",
        "    print(\"letter isn't A, B or C\")"
      ],
      "metadata": {
        "colab": {
          "base_uri": "https://localhost:8080/"
        },
        "id": "sIbf5FNXMsrr",
        "outputId": "aae4fc66-9b57-49b4-bbad-646caeeba898"
      },
      "execution_count": 45,
      "outputs": [
        {
          "output_type": "stream",
          "name": "stdout",
          "text": [
            "letter is A\n"
          ]
        }
      ]
    },
    {
      "cell_type": "code",
      "source": [
        "#Que. 7 . Describe the different types of loops in Python and their use cases with example?\n",
        "\n",
        "#Ans . Python programming language provides two types of Python loopshecking time. In this article, we will look at Python loops and understand their working with the help of examp – For loop and While loop to #handle looping requirements. Loops in Python provides three ways for executing the loops.\n",
        "\n",
        "#While all the ways provide similar basic functionality, they differ in their syntax and condition-checking time. In this article, we will look at Python loops and understand their working with the help of examples.\n",
        "\n",
        "#1. While Loop in Python\n",
        "#In Python, a while loop is used to execute a block of statements repeatedly until a given condition is satisfied. When the condition becomes false,\n",
        "#the line immediately after the loop in the program is executed.\n",
        "\n",
        "\n",
        "count = 0\n",
        "while (count < 3):\n",
        "    count = count + 4\n",
        "    print(\"Hello Geek\")"
      ],
      "metadata": {
        "colab": {
          "base_uri": "https://localhost:8080/"
        },
        "id": "oFRlMP5xM9zL",
        "outputId": "556861fb-80d8-42e8-d833-c093fdd76a2d"
      },
      "execution_count": 48,
      "outputs": [
        {
          "output_type": "stream",
          "name": "stdout",
          "text": [
            "Hello Geek\n"
          ]
        }
      ]
    },
    {
      "cell_type": "code",
      "source": [
        "#2. #Using else statement with While Loop in Python\n",
        "#The else clause is only executed when your while condition becomes false. If you break out of the loop, or if an exception is raised, it won’t be executed.\n",
        "\n",
        "#Syntax of While Loop with else statement:\n",
        "\n",
        "\n",
        "count = 0\n",
        "while (count < 3):\n",
        "    count = count + 1\n",
        "    print(\"Hello Geek\")\n",
        "else:\n",
        "    print(\"In Else Block\")"
      ],
      "metadata": {
        "colab": {
          "base_uri": "https://localhost:8080/"
        },
        "id": "O9iXS2wkN49_",
        "outputId": "a5aa94e6-88e7-4d6b-c207-a7ac25ece624"
      },
      "execution_count": 49,
      "outputs": [
        {
          "output_type": "stream",
          "name": "stdout",
          "text": [
            "Hello Geek\n",
            "Hello Geek\n",
            "Hello Geek\n",
            "In Else Block\n"
          ]
        }
      ]
    },
    {
      "cell_type": "code",
      "source": [
        "#Infinite While Loop in Python\n",
        "#If we want a block of code to execute infinite number of time, we can use the while loop in Python to do so.\n",
        "\n",
        "#The code uses a ‘while' loop with the condition (count == 0). This loop will only run as long as count is equal to 0. Since count is initially set to 0, the loop will execute indefinitely because the condition is always true.\n",
        "\n",
        "\n",
        "count = 0\n",
        "while (count == 0):\n",
        "    print(\"Hello Geek\")       #it will never end"
      ],
      "metadata": {
        "id": "7b3HVqN4O0Dw"
      },
      "execution_count": 53,
      "outputs": []
    },
    {
      "cell_type": "code",
      "source": [
        "#For Loop in Python\n",
        "#For loops are used for sequential traversal. For example: traversing a list or string or array etc. In Python, there is “for in” loop which is similar to foreach loop in other languages. Let us learn how to use for loops in #Python for sequential traversals with examples.\n",
        "\n",
        "#For Loop Syntax:\n",
        "\n",
        "\n",
        "\n",
        "n = 4\n",
        "for i in range(2, n):\n",
        "    print(i)"
      ],
      "metadata": {
        "colab": {
          "base_uri": "https://localhost:8080/"
        },
        "id": "Vw_4EK_iO-Zg",
        "outputId": "718d0bf8-c524-4f8a-84e2-b8f653124aca"
      },
      "execution_count": 57,
      "outputs": [
        {
          "output_type": "stream",
          "name": "stdout",
          "text": [
            "2\n",
            "3\n"
          ]
        }
      ]
    },
    {
      "cell_type": "code",
      "source": [],
      "metadata": {
        "id": "3x3UP9wGPiaL"
      },
      "execution_count": null,
      "outputs": []
    }
  ]
}